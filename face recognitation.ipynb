{
 "cells": [
  {
   "cell_type": "code",
   "execution_count": 2,
   "metadata": {},
   "outputs": [],
   "source": [
    "import cv2\n",
    "import os\n",
    "import numpy as np"
   ]
  },
  {
   "cell_type": "code",
   "execution_count": 11,
   "metadata": {},
   "outputs": [
    {
     "name": "stdout",
     "output_type": "stream",
     "text": [
      "Enter ID 1\n"
     ]
    }
   ],
   "source": [
    "# Face Recognition\n",
    "# Loading the cascades\n",
    "face_cascade = cv2.CascadeClassifier('haarcascade_frontalface_default.xml')\n",
    "\n",
    "id=input('Enter ID ')\n",
    "video_capture = cv2.VideoCapture(0)\n",
    "num=0\n",
    "while True:\n",
    "    _, frame = video_capture.read()\n",
    "    gray = cv2.cvtColor(frame, cv2.COLOR_BGR2GRAY)\n",
    "    faces = face_cascade.detectMultiScale(gray, 1.3, 5)\n",
    "    for (x, y, w, h) in faces:\n",
    "        num+=1\n",
    "        cv2.imwrite(\"training-data/user.\"+id+'.'+str(num)+\".jpg\",gray[y:y+h,x:x+w])\n",
    "        cv2.rectangle(frame, (x, y), (x+w, y+h), (255, 0, 0), 2)\n",
    "        cv2.waitKey(100)\n",
    "    cv2.imshow('Video', canvas)\n",
    "    cv2.waitKey(100)\n",
    "    if num>20:\n",
    "        break\n",
    "video_capture.release()\n",
    "cv2.destroyAllWindows()\n"
   ]
  },
  {
   "cell_type": "markdown",
   "metadata": {},
   "source": [
    "## Training"
   ]
  },
  {
   "cell_type": "code",
   "execution_count": 2,
   "metadata": {},
   "outputs": [],
   "source": [
    "from PIL import Image"
   ]
  },
  {
   "cell_type": "code",
   "execution_count": 8,
   "metadata": {},
   "outputs": [],
   "source": [
    "recognizer = cv2.face.LBPHFaceRecognizer_create()\n",
    "path=\"training-data\""
   ]
  },
  {
   "cell_type": "code",
   "execution_count": 10,
   "metadata": {},
   "outputs": [],
   "source": [
    "def getImagesAndLabels(path):\n",
    "    faces=[]\n",
    "    Ids=[]\n",
    "    imagePaths=[os.path.join(path,f) for f in os.listdir(path)] \n",
    "    for imagePath in imagePaths:\n",
    "        faceImage=Image.open(imagePath).convert('L')\n",
    "        faceNp=np.array(faceImage,'uint8')\n",
    "        Id=int(os.path.split(imagePath)[-1].split(\".\")[1])\n",
    "        faces.append(faceNp)\n",
    "        Ids.append(Id)\n",
    "    return Ids,faces\n",
    "Ids,faces=getImagesAndLabels(path)\n",
    "recognizer.train(faces,np.array(Ids))\n",
    "recognizer.save('recognizer/trainfacedata.yml')"
   ]
  },
  {
   "cell_type": "markdown",
   "metadata": {},
   "source": [
    "## Detector"
   ]
  },
  {
   "cell_type": "code",
   "execution_count": 18,
   "metadata": {},
   "outputs": [],
   "source": [
    "face_cascade = cv2.CascadeClassifier('haarcascade_frontalface_default.xml')\n",
    "video_capture = cv2.VideoCapture(0)\n",
    "rec = cv2.face.LBPHFaceRecognizer_create()\n",
    "rec.read(\"recognizer/trainfacedata.yml\")\n",
    "font = cv2.FONT_HERSHEY_SIMPLEX\n",
    "fontscale = 1\n",
    "fontcolor = (0, 0, 255)\n",
    "id=0\n",
    "while True:\n",
    "    _, frame = video_capture.read()\n",
    "    gray = cv2.cvtColor(frame, cv2.COLOR_BGR2GRAY)\n",
    "    faces = face_cascade.detectMultiScale(gray, 1.3, 5)\n",
    "    for (x, y, w, h) in faces:\n",
    "        cv2.rectangle(frame, (x, y), (x+w, y+h), (255, 0, 0), 2)\n",
    "        Id,conf=rec.predict(gray[y:y+h,x:x+w])\n",
    "        if Id==1:\n",
    "            Id=\"Himanshu\"\n",
    "        else:\n",
    "            \n",
    "        cv2.putText(frame,str(Id),(x,y+h),font,fontscale,fontcolor)\n",
    "    cv2.imshow('Video', frame)\n",
    "    if cv2.waitKey(1) & 0xFF == ord('q'):\n",
    "        break\n",
    "video_capture.release()\n",
    "cv2.destroyAllWindows()"
   ]
  },
  {
   "cell_type": "code",
   "execution_count": null,
   "metadata": {},
   "outputs": [],
   "source": []
  }
 ],
 "metadata": {
  "kernelspec": {
   "display_name": "Python 3",
   "language": "python",
   "name": "python3"
  },
  "language_info": {
   "codemirror_mode": {
    "name": "ipython",
    "version": 3
   },
   "file_extension": ".py",
   "mimetype": "text/x-python",
   "name": "python",
   "nbconvert_exporter": "python",
   "pygments_lexer": "ipython3",
   "version": "3.6.3"
  }
 },
 "nbformat": 4,
 "nbformat_minor": 2
}
